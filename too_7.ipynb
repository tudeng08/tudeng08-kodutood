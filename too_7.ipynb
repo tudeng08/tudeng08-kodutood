{
 "cells": [
  {
   "cell_type": "markdown",
   "metadata": {},
   "source": [
    "# Stiil1"
   ]
  },
  {
   "cell_type": "markdown",
   "metadata": {},
   "source": [
    "##Stiil2"
   ]
  },
  {
   "cell_type": "markdown",
   "metadata": {},
   "source": [
    "###Stiil3"
   ]
  },
  {
   "cell_type": "code",
   "execution_count": 12,
   "metadata": {
    "collapsed": false
   },
   "outputs": [
    {
     "name": "stdout",
     "output_type": "stream",
     "text": [
      "Muutuja1 = 2.88\n",
      "Muutuja2 = 5\n",
      "Muutuja3 = True\n",
      "Muutuja4 = bioinformaatika erikursus\n",
      "Muutuja5 = True\n",
      "Muutuja6 = True\n"
     ]
    }
   ],
   "source": [
    "Muutuja1 = 0.22*4 + 4**1/2\n",
    "print('Muutuja1 =', Muutuja1)\n",
    "\n",
    "Muutuja2 = 35 // 7\n",
    "print('Muutuja2 =', Muutuja2)\n",
    "\n",
    "Muutuja3 = 2**3 != 3**2 and 35 > 5**2\n",
    "type(Muutuja3)\n",
    "print('Muutuja3 =', Muutuja3)\n",
    "\n",
    "string1 = 'bioinformaatika '\n",
    "string2 = 'erikursus'\n",
    "Muutuja4 = string1 + string2\n",
    "print('Muutuja4 =', Muutuja4)\n",
    "\n",
    "hulk1 = set('1' '2' '3' '4')\n",
    "Muutuja5 = '2' in hulk1\n",
    "print('Muutuja5 =', Muutuja5 )\n",
    "\n",
    "Muutuja6 = '5' not in set('2' '3')\n",
    "print('Muutuja6 =', Muutuja6 )\n",
    "\n"
   ]
  },
  {
   "cell_type": "code",
   "execution_count": null,
   "metadata": {
    "collapsed": true
   },
   "outputs": [],
   "source": []
  }
 ],
 "metadata": {
  "kernelspec": {
   "display_name": "Python 3",
   "language": "python",
   "name": "python3"
  },
  "language_info": {
   "codemirror_mode": {
    "name": "ipython",
    "version": 3
   },
   "file_extension": ".py",
   "mimetype": "text/x-python",
   "name": "python",
   "nbconvert_exporter": "python",
   "pygments_lexer": "ipython3",
   "version": "3.4.3"
  }
 },
 "nbformat": 4,
 "nbformat_minor": 0
}
